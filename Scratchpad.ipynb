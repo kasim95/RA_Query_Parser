{
 "cells": [
  {
   "cell_type": "code",
   "execution_count": 1,
   "metadata": {
    "ExecuteTime": {
     "end_time": "2019-11-06T00:24:33.026030Z",
     "start_time": "2019-11-06T00:24:33.006475Z"
    }
   },
   "outputs": [],
   "source": [
    "import collections\n",
    "import pprint\n",
    "import math\n",
    "from Chinook_Python import *"
   ]
  },
  {
   "cell_type": "code",
   "execution_count": 2,
   "metadata": {
    "ExecuteTime": {
     "end_time": "2019-11-06T00:24:33.048475Z",
     "start_time": "2019-11-06T00:24:33.027945Z"
    }
   },
   "outputs": [],
   "source": [
    "#DISCARDED********************\n",
    "\"\"\"\n",
    "def project(relation, columns):\n",
    "    #relation:  set\n",
    "    #columns: list of strings as column names\n",
    "    result = []\n",
    "    all_columns = next(iter(relation))._fields\n",
    "    tuple_ = collections.namedtuple(\"result\",columns)\n",
    "    for i in range(len(relation)):\n",
    "        values = []\n",
    "        for j in range(len(columns)):\n",
    "            if columns[j] in all_columns:\n",
    "                values.append(list(relation)[i]._asdict()[columns[j]])\n",
    "        result.append(tuple_(*values))\n",
    "    result = set(result)\n",
    "    return result\n",
    "\"\"\"\n",
    "#DISCARDED\n",
    "\"\"\"\n",
    "def project(relation, columns):\n",
    "    #relation:  set\n",
    "    #columns: list of strings as column names\n",
    "    result = []\n",
    "    all_columns = next(iter(relation))._fields\n",
    "    tuple_name = next(iter(relation)).__repr__().split(\"(\")[0]\n",
    "    tuple_ = collections.namedtuple(tuple_name,columns)\n",
    "    for i in range(len(relation)):\n",
    "        #get the values for each column field\n",
    "        values = [list(relation)[i]._asdict()[x] for x in columns if x in all_columns]\n",
    "        result.append(tuple_(*values))\n",
    "    return set(result)\n",
    "\"\"\""
   ]
  },
  {
   "cell_type": "code",
   "execution_count": 3,
   "metadata": {
    "ExecuteTime": {
     "end_time": "2019-11-06T00:24:33.061126Z",
     "start_time": "2019-11-06T00:24:33.051366Z"
    }
   },
   "outputs": [
    {
     "data": {
      "text/plain": [
       "'\\ndef select(relation, predicate):\\n    result = []\\n    all_columns = next(iter(relation))._fields\\n    tuple_ = collections.namedtuple(\"result\",all_columns)\\n    for i in range(len(relation)):\\n        if predicate(list(relation)[i]):\\n            values = []\\n            for j in all_columns:\\n                values.append(list(relation)[i]._asdict()[j]) \\n            result.append(tuple_(*values))\\n    result = set(result)\\n    return result\\n'"
      ]
     },
     "execution_count": 3,
     "metadata": {},
     "output_type": "execute_result"
    }
   ],
   "source": [
    "#DISCARDED\n",
    "\"\"\"\n",
    "def select(relation, predicate):\n",
    "    result = []\n",
    "    all_columns = next(iter(relation))._fields\n",
    "    tuple_ = collections.namedtuple(\"result\",all_columns)\n",
    "    for i in range(len(relation)):\n",
    "        if predicate(list(relation)[i]):\n",
    "            values = []\n",
    "            for j in all_columns:\n",
    "                values.append(list(relation)[i]._asdict()[j]) \n",
    "            result.append(tuple_(*values))\n",
    "    result = set(result)\n",
    "    return result\n",
    "\"\"\""
   ]
  },
  {
   "cell_type": "code",
   "execution_count": 4,
   "metadata": {
    "ExecuteTime": {
     "end_time": "2019-11-06T00:24:33.068974Z",
     "start_time": "2019-11-06T00:24:33.064054Z"
    }
   },
   "outputs": [
    {
     "data": {
      "text/plain": [
       "'\\ndef rename(relation, new_columns=None, new_relation=None):\\n    result = []\\n    all_columns = list(next(iter(relation))._asdict().keys())\\n    tuple_name = next(iter(relation)).__repr__().split(\"(\")[0]\\n    tuple_ = collections.namedtuple(tuple_name,new_columns)\\n    for i in range(len(relation)):\\n        values = [list(relation)[i]._asdict()[j] for j in all_columns]\\n        result.append(tuple_(*values))\\n    return set(result)\\n'"
      ]
     },
     "execution_count": 4,
     "metadata": {},
     "output_type": "execute_result"
    }
   ],
   "source": [
    "#DISCARDED\n",
    "\"\"\"\n",
    "def rename(relation, new_columns=None, new_relation=None):\n",
    "    result = []\n",
    "    all_columns = list(next(iter(relation))._asdict().keys())\n",
    "    tuple_name = next(iter(relation)).__repr__().split(\"(\")[0]\n",
    "    tuple_ = collections.namedtuple(tuple_name,new_columns)\n",
    "    for i in range(len(relation)):\n",
    "        values = [list(relation)[i]._asdict()[j] for j in all_columns]\n",
    "        result.append(tuple_(*values))\n",
    "    return set(result)\n",
    "\"\"\""
   ]
  },
  {
   "cell_type": "code",
   "execution_count": 5,
   "metadata": {
    "ExecuteTime": {
     "end_time": "2019-11-06T00:24:33.079679Z",
     "start_time": "2019-11-06T00:24:33.070886Z"
    }
   },
   "outputs": [
    {
     "data": {
      "text/plain": [
       "'\\ndef cross(relation1, relation2):\\n    rel1_columns = list(next(iter(relation1))._fields)\\n    rel2_columns = list(next(iter(relation2))._fields)\\n    rel1_name = next(iter(relation1)).__repr__().split(\"(\")[0]\\n    rel2_name = next(iter(relation2)).__repr__().split(\"(\")[0]\\n    #rename same column names\\n    new_rel1_columns = rel1_columns.copy()\\n    new_rel2_columns = rel2_columns.copy()\\n    new_rel1_columns = [(rel1_name + \"_\" + new_rel1_columns[i]) if (new_rel1_columns[i] in rel2_columns) else new_rel1_columns[i] for i in range(len(new_rel1_columns))]\\n    new_rel2_columns = [(rel2_name + \"_\" + new_rel2_columns[i]) if (new_rel2_columns[i] in rel1_columns) else new_rel2_columns[i] for i in range(len(new_rel2_columns))]\\n\\n    tuple_ = collections.namedtuple(\"result\",new_rel1_columns+new_rel2_columns)\\n    result = []\\n    for i in range(len(relation1)):\\n        values1 = list(list(relation1)[i].__getnewargs__())\\n        for j in range(len(relation2)):\\n            values2 = list(list(relation2)[j].__getnewargs__())\\n            result.append(tuple_(*(values1+ values2)))\\n    return set(result)\\n'"
      ]
     },
     "execution_count": 5,
     "metadata": {},
     "output_type": "execute_result"
    }
   ],
   "source": [
    "#DISCARDED\n",
    "\"\"\"\n",
    "def cross(relation1, relation2):\n",
    "    rel1_columns = list(next(iter(relation1))._fields)\n",
    "    rel2_columns = list(next(iter(relation2))._fields)\n",
    "    rel1_name = next(iter(relation1)).__repr__().split(\"(\")[0]\n",
    "    rel2_name = next(iter(relation2)).__repr__().split(\"(\")[0]\n",
    "    #rename same column names\n",
    "    new_rel1_columns = rel1_columns.copy()\n",
    "    new_rel2_columns = rel2_columns.copy()\n",
    "    new_rel1_columns = [(rel1_name + \"_\" + new_rel1_columns[i]) if (new_rel1_columns[i] in rel2_columns) else new_rel1_columns[i] for i in range(len(new_rel1_columns))]\n",
    "    new_rel2_columns = [(rel2_name + \"_\" + new_rel2_columns[i]) if (new_rel2_columns[i] in rel1_columns) else new_rel2_columns[i] for i in range(len(new_rel2_columns))]\n",
    "\n",
    "    tuple_ = collections.namedtuple(\"result\",new_rel1_columns+new_rel2_columns)\n",
    "    result = []\n",
    "    for i in range(len(relation1)):\n",
    "        values1 = list(list(relation1)[i].__getnewargs__())\n",
    "        for j in range(len(relation2)):\n",
    "            values2 = list(list(relation2)[j].__getnewargs__())\n",
    "            result.append(tuple_(*(values1+ values2)))\n",
    "    return set(result)\n",
    "\"\"\""
   ]
  },
  {
   "cell_type": "code",
   "execution_count": 6,
   "metadata": {
    "ExecuteTime": {
     "end_time": "2019-11-06T00:24:33.088472Z",
     "start_time": "2019-11-06T00:24:33.081622Z"
    }
   },
   "outputs": [
    {
     "data": {
      "text/plain": [
       "'\\ndef theta_join(relation1, relation2, predicate):\\n    rel1_columns = list(next(iter(relation1))._fields)\\n    rel2_columns = list(next(iter(relation2))._fields)\\n    tuple_ = collections.namedtuple(\"result\",rel1_columns+rel2_columns)\\n    result = []\\n    iter1 = iter(relation1)\\n    for i in range(len(relation1)):\\n        dict1 = next(iter1)\\n        iter2 = iter(relation2)\\n        result.append(dict1._asdict())\\n        for j in range(len(relation2)):\\n            dict2 = next(iter2)\\n            if predicate(dict1, dict2):\\n                for k in rel2_columns:\\n                    result[i][k] = dict2._asdict()[k]\\n        result[i] = tuple_(**result[i])\\n    return set(result)\\n'"
      ]
     },
     "execution_count": 6,
     "metadata": {},
     "output_type": "execute_result"
    }
   ],
   "source": [
    "#DISCARDED\n",
    "\"\"\"\n",
    "def theta_join(relation1, relation2, predicate):\n",
    "    \n",
    "    rel1_columns = list(next(iter(relation1))._fields)\n",
    "    rel2_columns = list(next(iter(relation2))._fields)\n",
    "    columns = list(set(rel1_columns + rel2_columns))\n",
    "    tuple_ = collections.namedtuple(\"result\",rel1_columns+rel2_columns)\n",
    "    result = []\n",
    "    iter1 = iter(relation1)\n",
    "    for i in range(len(relation1)):\n",
    "        dict1 = next(iter1)\n",
    "        dict1_od = dict1._asdict()\n",
    "        iter2 = iter(relation2)\n",
    "        keys1 = list(dict1_od.keys())\n",
    "        result.append(dict1_od)\n",
    "        for j in range(len(relation2)):\n",
    "            dict2 = next(iter2)\n",
    "            dict2_od = dict2._asdict()\n",
    "            keys2 = list(dict2_od.keys())\n",
    "            if predicate(dict1, dict2):\n",
    "                for k in keys2:\n",
    "                    result[i][k] = dict2_od[k]\n",
    "        result[i] = tuple_(**result[i])\n",
    "        #result[i] = collections.namedtuple(\"result\",result[i].keys())(*result[i].values())\n",
    "    \n",
    "    return set(result)\n",
    "\"\"\"\n",
    "#DISCARDED\n",
    "\"\"\"\n",
    "def theta_join(relation1, relation2, predicate):\n",
    "    rel1_columns = list(next(iter(relation1))._fields)\n",
    "    rel2_columns = list(next(iter(relation2))._fields)\n",
    "    tuple_ = collections.namedtuple(\"result\",rel1_columns+rel2_columns)\n",
    "    result = []\n",
    "    iter1 = iter(relation1)\n",
    "    for i in range(len(relation1)):\n",
    "        dict1 = next(iter1)\n",
    "        iter2 = iter(relation2)\n",
    "        result.append(dict1._asdict())\n",
    "        for j in range(len(relation2)):\n",
    "            dict2 = next(iter2)\n",
    "            if predicate(dict1, dict2):\n",
    "                for k in rel2_columns:\n",
    "                    result[i][k] = dict2._asdict()[k]\n",
    "        result[i] = tuple_(**result[i])\n",
    "    return set(result)\n",
    "\"\"\""
   ]
  },
  {
   "cell_type": "code",
   "execution_count": 7,
   "metadata": {
    "ExecuteTime": {
     "end_time": "2019-11-06T00:24:33.098215Z",
     "start_time": "2019-11-06T00:24:33.091382Z"
    }
   },
   "outputs": [
    {
     "data": {
      "text/plain": [
       "'\\ndef project(relation, columns):\\n    result = []\\n    all_columns = next(iter(relation))._fields\\n    tuple_name = next(iter(relation)).__repr__().split(\"(\")[0]\\n    tuple_ = collections.namedtuple(tuple_name, columns)\\n    iter_ = iter(relation)\\n    for i in range(len(relation)):\\n        #get the values for each column field\\n        record = next(iter_)\\n        values = [record._asdict()[x] for x in columns if x in all_columns]\\n        result.append(tuple_(*values))\\n    return set(result)\\n'"
      ]
     },
     "execution_count": 7,
     "metadata": {},
     "output_type": "execute_result"
    }
   ],
   "source": [
    "\"\"\"\n",
    "def project(relation, columns):\n",
    "    result = []\n",
    "    all_columns = next(iter(relation))._fields\n",
    "    tuple_name = next(iter(relation)).__repr__().split(\"(\")[0]\n",
    "    tuple_ = collections.namedtuple(tuple_name, columns)\n",
    "    iter_ = iter(relation)\n",
    "    for i in range(len(relation)):\n",
    "        #get the values for each column field\n",
    "        record = next(iter_)\n",
    "        values = [record._asdict()[x] for x in columns if x in all_columns]\n",
    "        result.append(tuple_(*values))\n",
    "    return set(result)\n",
    "\"\"\""
   ]
  },
  {
   "cell_type": "code",
   "execution_count": 8,
   "metadata": {
    "ExecuteTime": {
     "end_time": "2019-11-06T00:24:33.112856Z",
     "start_time": "2019-11-06T00:24:33.103095Z"
    }
   },
   "outputs": [],
   "source": [
    "def project(relation, columns):\n",
    "    all_columns = next(iter(relation))._fields # get all column names\n",
    "    tuple_name = next(iter(relation)).__repr__().split(\"(\")[0] # get tuple name\n",
    "    tuple_ = collections.namedtuple(tuple_name, columns) # create namedtuple with same name as input tuple\n",
    "    iter_ = iter(relation) # iterator for input relation \n",
    "    iterations = math.ceil(len(relation)/10000) # calculate number of lists required if len(input relation) > 10000\n",
    "    result_list = [[] for i in range(iterations)] # create list of lists with each inner list restricted to 10000 length\n",
    "    for i in range(len(relation)):\n",
    "        record = next(iter_)\n",
    "        values = [record._asdict()[x] for x in columns if x in all_columns] # get the values for each column field\n",
    "        result_list[math.floor(i/10000)].append(tuple_(*values)) # append namedtuple to inner list depending on the no of item\n",
    "    result = [k for m in result_list for k in m] # combine all inner lists into a single list\n",
    "    print(\"Cardinality of project: \",len(result))\n",
    "    return set(result)"
   ]
  },
  {
   "cell_type": "code",
   "execution_count": 9,
   "metadata": {
    "ExecuteTime": {
     "end_time": "2019-11-06T00:24:33.120664Z",
     "start_time": "2019-11-06T00:24:33.115785Z"
    }
   },
   "outputs": [],
   "source": [
    "#pprint.pprint(project(Artist,[\"ArtistId\"]))"
   ]
  },
  {
   "cell_type": "code",
   "execution_count": 10,
   "metadata": {
    "ExecuteTime": {
     "end_time": "2019-11-06T00:24:33.130424Z",
     "start_time": "2019-11-06T00:24:33.123590Z"
    }
   },
   "outputs": [
    {
     "data": {
      "text/plain": [
       "'\\ndef select(relation, predicate):\\n    result = [list(relation)[i] for i in range(len(relation)) if predicate(list(relation)[i])]\\n    return set(result)\\n'"
      ]
     },
     "execution_count": 10,
     "metadata": {},
     "output_type": "execute_result"
    }
   ],
   "source": [
    "\"\"\"\n",
    "def select(relation, predicate):\n",
    "    result = [list(relation)[i] for i in range(len(relation)) if predicate(list(relation)[i])]\n",
    "    return set(result)\n",
    "\"\"\""
   ]
  },
  {
   "cell_type": "code",
   "execution_count": 11,
   "metadata": {
    "ExecuteTime": {
     "end_time": "2019-11-06T00:24:33.140183Z",
     "start_time": "2019-11-06T00:24:33.132378Z"
    }
   },
   "outputs": [],
   "source": [
    "def select(relation, predicate):\n",
    "    iterations = math.ceil(len(relation)/10000)\n",
    "    rel_batch_list = []\n",
    "    result_list = []\n",
    "    for i in range(iterations):\n",
    "        start = i * 10000\n",
    "        end = (i+1) * 10000\n",
    "        rel_batch_list = list(relation)[start:end]\n",
    "        result_list.append([j for j in rel_batch_list if predicate(j)])    \n",
    "    \n",
    "    result = [k for m in result_list for k in m]\n",
    "    print(\"Cardinality of select: \",len(result))\n",
    "    return set(result)\n"
   ]
  },
  {
   "cell_type": "code",
   "execution_count": 12,
   "metadata": {
    "ExecuteTime": {
     "end_time": "2019-11-06T00:24:33.149941Z",
     "start_time": "2019-11-06T00:24:33.143110Z"
    }
   },
   "outputs": [],
   "source": [
    "#pprint.pprint(select(Artist, lambda t: t.Name == \"Red Hot Chili Peppers\"))"
   ]
  },
  {
   "cell_type": "code",
   "execution_count": 13,
   "metadata": {
    "ExecuteTime": {
     "end_time": "2019-11-06T00:24:33.160680Z",
     "start_time": "2019-11-06T00:24:33.152873Z"
    }
   },
   "outputs": [
    {
     "data": {
      "text/plain": [
       "'\\ndef rename(relation, new_columns=None, new_relation=None):\\n    result = []\\n    all_columns = list(next(iter(relation))._asdict().keys())\\n    tuple_name = next(iter(relation)).__repr__().split(\"(\")[0]\\n    tuple_ = collections.namedtuple(tuple_name, new_columns)\\n    iter_ = iter(relation)\\n    for i in range(len(relation)):\\n        record = next(iter_)\\n        values = [record._asdict()[j] for j in all_columns]\\n        result.append(tuple_(*values))\\n    return set(result)\\n'"
      ]
     },
     "execution_count": 13,
     "metadata": {},
     "output_type": "execute_result"
    }
   ],
   "source": [
    "\"\"\"\n",
    "def rename(relation, new_columns=None, new_relation=None):\n",
    "    result = []\n",
    "    all_columns = list(next(iter(relation))._asdict().keys())\n",
    "    tuple_name = next(iter(relation)).__repr__().split(\"(\")[0]\n",
    "    tuple_ = collections.namedtuple(tuple_name, new_columns)\n",
    "    iter_ = iter(relation)\n",
    "    for i in range(len(relation)):\n",
    "        record = next(iter_)\n",
    "        values = [record._asdict()[j] for j in all_columns]\n",
    "        result.append(tuple_(*values))\n",
    "    return set(result)\n",
    "\"\"\""
   ]
  },
  {
   "cell_type": "code",
   "execution_count": 14,
   "metadata": {
    "ExecuteTime": {
     "end_time": "2019-11-06T00:24:33.172393Z",
     "start_time": "2019-11-06T00:24:33.163615Z"
    }
   },
   "outputs": [],
   "source": [
    "def rename(relation, new_columns=None, new_relation=None):\n",
    "    #assuming new_relation argument is a string\n",
    "    result = []\n",
    "    all_columns = list(next(iter(relation))._asdict().keys())\n",
    "    if new_relation == None:\n",
    "        tuple_name = next(iter(relation)).__repr__().split(\"(\")[0]\n",
    "    else:\n",
    "        tuple_name = new_relation\n",
    "    tuple_ = collections.namedtuple(tuple_name, new_columns)\n",
    "    iter_ = iter(relation)\n",
    "    iterations = math.ceil(len(relation)/10000)\n",
    "    result_list = [[] for i in range(iterations)]\n",
    "    for i in range(len(relation)):\n",
    "        record = next(iter_)\n",
    "        values = [record._asdict()[j] for j in all_columns]\n",
    "        #result.append(tuple_(*values))\n",
    "        result_list[math.floor(i/10000)].append(tuple_(*values))\n",
    "    result = [k for m in result_list for k in m]\n",
    "    print(\"Cardinality of rename: \",len(result))\n",
    "    return set(result)"
   ]
  },
  {
   "cell_type": "code",
   "execution_count": 15,
   "metadata": {
    "ExecuteTime": {
     "end_time": "2019-11-06T00:24:33.181174Z",
     "start_time": "2019-11-06T00:24:33.175319Z"
    }
   },
   "outputs": [],
   "source": [
    "#pprint.pprint(rename(Album,[\"Id\",\"NameofAlbum\",\"Artist\"]))"
   ]
  },
  {
   "cell_type": "code",
   "execution_count": 16,
   "metadata": {
    "ExecuteTime": {
     "end_time": "2019-11-06T00:24:33.191910Z",
     "start_time": "2019-11-06T00:24:33.183127Z"
    }
   },
   "outputs": [
    {
     "data": {
      "text/plain": [
       "'\\ndef cross(relation1, relation2):\\n    rel1_columns = list(next(iter(relation1))._fields)\\n    rel2_columns = list(next(iter(relation2))._fields)\\n    rel1_name = next(iter(relation1)).__repr__().split(\"(\")[0]\\n    rel2_name = next(iter(relation2)).__repr__().split(\"(\")[0]\\n    #rename same column names\\n    new_rel1_columns = rel1_columns.copy()\\n    new_rel2_columns = rel2_columns.copy()\\n    new_rel1_columns = [(rel1_name + \"_\" + new_rel1_columns[i]) if (new_rel1_columns[i] in rel2_columns) else new_rel1_columns[i] for i in range(len(new_rel1_columns))]\\n    new_rel2_columns = [(rel2_name + \"_\" + new_rel2_columns[i]) if (new_rel2_columns[i] in rel1_columns) else new_rel2_columns[i] for i in range(len(new_rel2_columns))]\\n    tuple_ = collections.namedtuple(\"result\", new_rel1_columns + new_rel2_columns)\\n    result = []\\n    iter1 = iter(relation1)\\n    for i in range(len(relation1)):\\n        record1 = next(iter1)\\n        values1 = list(record1.__getnewargs__())\\n        iter2 = iter(relation2)\\n        for j in range(len(relation2)):\\n            record2 = next(iter2)\\n            values2 = list(record2.__getnewargs__())\\n            result.append(tuple_(*(values1 + values2)))\\n    return set(result)\\n'"
      ]
     },
     "execution_count": 16,
     "metadata": {},
     "output_type": "execute_result"
    }
   ],
   "source": [
    "\"\"\"\n",
    "def cross(relation1, relation2):\n",
    "    rel1_columns = list(next(iter(relation1))._fields)\n",
    "    rel2_columns = list(next(iter(relation2))._fields)\n",
    "    rel1_name = next(iter(relation1)).__repr__().split(\"(\")[0]\n",
    "    rel2_name = next(iter(relation2)).__repr__().split(\"(\")[0]\n",
    "    #rename same column names\n",
    "    new_rel1_columns = rel1_columns.copy()\n",
    "    new_rel2_columns = rel2_columns.copy()\n",
    "    new_rel1_columns = [(rel1_name + \"_\" + new_rel1_columns[i]) if (new_rel1_columns[i] in rel2_columns) else new_rel1_columns[i] for i in range(len(new_rel1_columns))]\n",
    "    new_rel2_columns = [(rel2_name + \"_\" + new_rel2_columns[i]) if (new_rel2_columns[i] in rel1_columns) else new_rel2_columns[i] for i in range(len(new_rel2_columns))]\n",
    "    tuple_ = collections.namedtuple(\"result\", new_rel1_columns + new_rel2_columns)\n",
    "    result = []\n",
    "    iter1 = iter(relation1)\n",
    "    for i in range(len(relation1)):\n",
    "        record1 = next(iter1)\n",
    "        values1 = list(record1.__getnewargs__())\n",
    "        iter2 = iter(relation2)\n",
    "        for j in range(len(relation2)):\n",
    "            record2 = next(iter2)\n",
    "            values2 = list(record2.__getnewargs__())\n",
    "            result.append(tuple_(*(values1 + values2)))\n",
    "    return set(result)\n",
    "\"\"\""
   ]
  },
  {
   "cell_type": "code",
   "execution_count": 17,
   "metadata": {
    "ExecuteTime": {
     "end_time": "2019-11-06T00:24:33.200694Z",
     "start_time": "2019-11-06T00:24:33.193864Z"
    }
   },
   "outputs": [
    {
     "data": {
      "text/plain": [
       "'\\n#MEMORY CONSUMPTION INCREASES BEYOND 16Gigs\\ndef cross(relation1, relation2):\\n    rel1_columns = list(next(iter(relation1))._fields)\\n    rel2_columns = list(next(iter(relation2))._fields)\\n    rel1_name = next(iter(relation1)).__repr__().split(\"(\")[0]\\n    rel2_name = next(iter(relation2)).__repr__().split(\"(\")[0]\\n    \\n    #rename same column names\\n    new_rel1_columns = rel1_columns.copy()\\n    new_rel2_columns = rel2_columns.copy()\\n    new_rel1_columns = [(rel1_name + \"_\" + new_rel1_columns[i]) if (new_rel1_columns[i] in rel2_columns) else new_rel1_columns[i] for i in range(len(new_rel1_columns))]\\n    new_rel2_columns = [(rel2_name + \"_\" + new_rel2_columns[i]) if (new_rel2_columns[i] in rel1_columns) else new_rel2_columns[i] for i in range(len(new_rel2_columns))]\\n    tuple_ = collections.namedtuple(\"result\", new_rel1_columns + new_rel2_columns)\\n    iterations = math.ceil((len(relation1) * len(relation2)) / 10000)\\n    result_list = [[] for i in range(iterations)]\\n    x=0\\n    for i in relation1:\\n        for j in relation2:\\n            #prevent list size from increasing beyond 10000\\n            result_list[math.floor(x / 10000)].append(tuple_(*i,*j))\\n        x+=1\\n    result = [k for m in result_list for k in m]\\n    print(\"Cardinality of cross: \",len(result))\\n    return set(result)\\n    #return result\\n'"
      ]
     },
     "execution_count": 17,
     "metadata": {},
     "output_type": "execute_result"
    }
   ],
   "source": [
    "\"\"\"\n",
    "#STILL SLOWER THAN MINE\n",
    "def cross(relation1, relation2):\n",
    "    resultset = set()\n",
    "    for i in relation1:\n",
    "        for j in relation2:\n",
    "            tuple_ = collections.namedtuple('result', i._fields + j._fields)\n",
    "            result = tuple_(*i, *j)\n",
    "            resultset.add(result)\n",
    "    return resultset\n",
    "\"\"\"\n",
    "\"\"\"\n",
    "#MEMORY CONSUMPTION INCREASES BEYOND 16Gigs\n",
    "def cross(relation1, relation2):\n",
    "    rel1_columns = list(next(iter(relation1))._fields)\n",
    "    rel2_columns = list(next(iter(relation2))._fields)\n",
    "    rel1_name = next(iter(relation1)).__repr__().split(\"(\")[0]\n",
    "    rel2_name = next(iter(relation2)).__repr__().split(\"(\")[0]\n",
    "    \n",
    "    #rename same column names\n",
    "    new_rel1_columns = rel1_columns.copy()\n",
    "    new_rel2_columns = rel2_columns.copy()\n",
    "    new_rel1_columns = [(rel1_name + \"_\" + new_rel1_columns[i]) if (new_rel1_columns[i] in rel2_columns) else new_rel1_columns[i] for i in range(len(new_rel1_columns))]\n",
    "    new_rel2_columns = [(rel2_name + \"_\" + new_rel2_columns[i]) if (new_rel2_columns[i] in rel1_columns) else new_rel2_columns[i] for i in range(len(new_rel2_columns))]\n",
    "    tuple_ = collections.namedtuple(\"result\", new_rel1_columns + new_rel2_columns)\n",
    "    iterations = math.ceil((len(relation1) * len(relation2)) / 10000)\n",
    "    result_list = [[] for i in range(iterations)]\n",
    "    x=0\n",
    "    for i in relation1:\n",
    "        for j in relation2:\n",
    "            #prevent list size from increasing beyond 10000\n",
    "            result_list[math.floor(x / 10000)].append(tuple_(*i,*j))\n",
    "        x+=1\n",
    "    result = [k for m in result_list for k in m]\n",
    "    print(\"Cardinality of cross: \",len(result))\n",
    "    return set(result)\n",
    "    #return result\n",
    "\"\"\""
   ]
  },
  {
   "cell_type": "code",
   "execution_count": 18,
   "metadata": {
    "ExecuteTime": {
     "end_time": "2019-11-06T00:24:33.216337Z",
     "start_time": "2019-11-06T00:24:33.202648Z"
    }
   },
   "outputs": [],
   "source": [
    "#still the fastest of them all\n",
    "def cross(relation1, relation2):\n",
    "    rel1_columns = list(next(iter(relation1))._fields)\n",
    "    rel2_columns = list(next(iter(relation2))._fields)\n",
    "    rel1_name = next(iter(relation1)).__repr__().split(\"(\")[0]\n",
    "    rel2_name = next(iter(relation2)).__repr__().split(\"(\")[0]\n",
    "    #rename same column names\n",
    "    new_rel1_columns = rel1_columns.copy()\n",
    "    new_rel2_columns = rel2_columns.copy()\n",
    "    new_rel1_columns = [(rel1_name + \"_\" + new_rel1_columns[i]) if (new_rel1_columns[i] in rel2_columns) else new_rel1_columns[i] for i in range(len(new_rel1_columns))]\n",
    "    new_rel2_columns = [(rel2_name + \"_\" + new_rel2_columns[i]) if (new_rel2_columns[i] in rel1_columns) else new_rel2_columns[i] for i in range(len(new_rel2_columns))]\n",
    "    tuple_ = collections.namedtuple(\"Result\", new_rel1_columns + new_rel2_columns)\n",
    "    iterations = math.ceil((len(relation1) * len(relation2)) / 10000)\n",
    "    result_list = [[] for i in range(iterations)]\n",
    "    iter1 = iter(relation1)\n",
    "    for i in range(len(relation1)):\n",
    "        record1 = next(iter1)\n",
    "        values1 = list(record1.__getnewargs__())\n",
    "        iter2 = iter(relation2)\n",
    "        for j in range(len(relation2)):\n",
    "            record2 = next(iter2)\n",
    "            values2 = list(record2.__getnewargs__())\n",
    "            result_list[math.floor(i / 10000)].append(tuple_(*(values1 + values2)))\n",
    "    result = [k for m in result_list for k in m]\n",
    "    print(\"Cardinality of cross: \",len(result))\n",
    "    return set(result)"
   ]
  },
  {
   "cell_type": "code",
   "execution_count": 19,
   "metadata": {
    "ExecuteTime": {
     "end_time": "2019-11-06T00:24:33.225095Z",
     "start_time": "2019-11-06T00:24:33.219244Z"
    }
   },
   "outputs": [],
   "source": [
    "#pprint.pprint(len(cross(Artist, Album)))"
   ]
  },
  {
   "cell_type": "code",
   "execution_count": 20,
   "metadata": {
    "ExecuteTime": {
     "end_time": "2019-11-06T00:24:33.235832Z",
     "start_time": "2019-11-06T00:24:33.227046Z"
    }
   },
   "outputs": [
    {
     "data": {
      "text/plain": [
       "'\\ndef theta_join(relation1, relation2, predicate):\\n    rel1_columns = list(next(iter(relation1))._fields)\\n    rel2_columns = list(next(iter(relation2))._fields)\\n    tuple_ = collections.namedtuple(\"result\", rel1_columns + rel2_columns)\\n    result = []\\n    iter1 = iter(relation1)\\n    for i in range(len(relation1)):\\n        record1 = next(iter1)\\n        iter2 = iter(relation2)\\n        for j in range(len(relation2)):\\n            record2 = next(iter2)\\n            if predicate(record1, record2):\\n                resultdict = record1._asdict()\\n                for k in rel2_columns:\\n                    resultdict[k] = record2._asdict()[k]\\n                result.append(tuple_(**resultdict))\\n                break;\\n    print(\"Cardinality of theta join: \",len(result))\\n    return set(result)\\n'"
      ]
     },
     "execution_count": 20,
     "metadata": {},
     "output_type": "execute_result"
    }
   ],
   "source": [
    "\"\"\"\n",
    "def theta_join(relation1, relation2, predicate):\n",
    "    rel1_columns = list(next(iter(relation1))._fields)\n",
    "    rel2_columns = list(next(iter(relation2))._fields)\n",
    "    tuple_ = collections.namedtuple(\"result\", rel1_columns + rel2_columns)\n",
    "    result = []\n",
    "    iter1 = iter(relation1)\n",
    "    for i in range(len(relation1)):\n",
    "        record1 = next(iter1)\n",
    "        iter2 = iter(relation2)\n",
    "        for j in range(len(relation2)):\n",
    "            record2 = next(iter2)\n",
    "            if predicate(record1, record2):\n",
    "                resultdict = record1._asdict()\n",
    "                for k in rel2_columns:\n",
    "                    resultdict[k] = record2._asdict()[k]\n",
    "                result.append(tuple_(**resultdict))\n",
    "                break;\n",
    "    print(\"Cardinality of theta join: \",len(result))\n",
    "    return set(result)\n",
    "\"\"\""
   ]
  },
  {
   "cell_type": "code",
   "execution_count": 21,
   "metadata": {
    "ExecuteTime": {
     "end_time": "2019-11-06T00:24:33.251446Z",
     "start_time": "2019-11-06T00:24:33.238775Z"
    }
   },
   "outputs": [],
   "source": [
    "def theta_join(relation1, relation2, predicate):\n",
    "    rel1_columns = list(next(iter(relation1))._fields)\n",
    "    rel2_columns = list(next(iter(relation2))._fields)\n",
    "    tuple_ = collections.namedtuple(\"Result\", rel1_columns + rel2_columns)\n",
    "    #result = []\n",
    "    iterations = math.ceil((len(relation1) * len(relation2)) / 10000)\n",
    "    result_list = [[] for i in range(iterations)]\n",
    "    iter1 = iter(relation1)\n",
    "    for i in range(len(relation1)):\n",
    "        record1 = next(iter1)\n",
    "        iter2 = iter(relation2)\n",
    "        for j in range(len(relation2)):\n",
    "            record2 = next(iter2)\n",
    "            if predicate(record1, record2):\n",
    "                resultdict = record1._asdict()\n",
    "                for k in rel2_columns:\n",
    "                    resultdict[k] = record2._asdict()[k]\n",
    "                result_list[math.floor(i / 10000)].append(tuple_(**resultdict))\n",
    "                break;\n",
    "    result = [k for m in result_list for k in m]\n",
    "    print(\"Cardinality of theta join: \",len(result))\n",
    "    return set(result)"
   ]
  },
  {
   "cell_type": "code",
   "execution_count": null,
   "metadata": {},
   "outputs": [],
   "source": []
  },
  {
   "cell_type": "code",
   "execution_count": 22,
   "metadata": {
    "ExecuteTime": {
     "end_time": "2019-11-06T00:24:33.259254Z",
     "start_time": "2019-11-06T00:24:33.253399Z"
    }
   },
   "outputs": [],
   "source": [
    "#pprint.pprint(theta_join(Album, rename(Artist, ['Id', 'Name']), lambda t1, t2: t1.ArtistId == t2.Id))"
   ]
  },
  {
   "cell_type": "code",
   "execution_count": 23,
   "metadata": {
    "ExecuteTime": {
     "end_time": "2019-11-06T00:24:33.270972Z",
     "start_time": "2019-11-06T00:24:33.264134Z"
    }
   },
   "outputs": [
    {
     "data": {
      "text/plain": [
       "'\\ndef natural_join(relation1, relation2):\\n    rel1_columns = list(next(iter(relation1))._fields)\\n    rel2_columns = list(next(iter(relation2))._fields)\\n    common_col = None\\n    for i in rel1_columns:\\n        if i in rel2_columns:\\n            common_col = i\\n    if (common_col == None):\\n        raise ValueError(\"No common Column found\")\\n    all_columns = list(set(rel1_columns + rel2_columns))   \\n    tuple_ = collections.namedtuple(\"result\", all_columns)\\n    result = []\\n    iter1 = iter(relation1)\\n    for i in range(len(relation1)):\\n        record1 = next(iter1)\\n        iter2 = iter(relation2)\\n        for j in range(len(relation2)):\\n            record2 = next(iter2)\\n            if record1._asdict()[common_col] == record2._asdict()[common_col]:\\n                resultdict = record1._asdict()\\n                for k in rel2_columns:\\n                    if k != common_col:\\n                        resultdict[k] = record2._asdict()[k]\\n                result.append(tuple_(**resultdict))\\n    print(\"Cardinality of natural join: \",len(result))\\n    return set(result) \\n'"
      ]
     },
     "execution_count": 23,
     "metadata": {},
     "output_type": "execute_result"
    }
   ],
   "source": [
    "\"\"\"\n",
    "def natural_join(relation1, relation2):\n",
    "    rel1_columns = list(next(iter(relation1))._fields)\n",
    "    rel2_columns = list(next(iter(relation2))._fields)\n",
    "    common_col = None\n",
    "    for i in rel1_columns:\n",
    "        if i in rel2_columns:\n",
    "            common_col = i\n",
    "    if (common_col == None):\n",
    "        raise ValueError(\"No common Column found\")\n",
    "    all_columns = list(set(rel1_columns + rel2_columns))   \n",
    "    tuple_ = collections.namedtuple(\"result\", all_columns)\n",
    "    result = []\n",
    "    iter1 = iter(relation1)\n",
    "    for i in range(len(relation1)):\n",
    "        record1 = next(iter1)\n",
    "        iter2 = iter(relation2)\n",
    "        for j in range(len(relation2)):\n",
    "            record2 = next(iter2)\n",
    "            if record1._asdict()[common_col] == record2._asdict()[common_col]:\n",
    "                resultdict = record1._asdict()\n",
    "                for k in rel2_columns:\n",
    "                    if k != common_col:\n",
    "                        resultdict[k] = record2._asdict()[k]\n",
    "                result.append(tuple_(**resultdict))\n",
    "    print(\"Cardinality of natural join: \",len(result))\n",
    "    return set(result) \n",
    "\"\"\""
   ]
  },
  {
   "cell_type": "code",
   "execution_count": 24,
   "metadata": {
    "ExecuteTime": {
     "end_time": "2019-11-06T00:24:33.287558Z",
     "start_time": "2019-11-06T00:24:33.275853Z"
    }
   },
   "outputs": [],
   "source": [
    "def natural_join(relation1, relation2):\n",
    "    rel1_columns = list(next(iter(relation1))._fields)\n",
    "    rel2_columns = list(next(iter(relation2))._fields)\n",
    "    common_col = None\n",
    "    for i in rel1_columns:\n",
    "        if i in rel2_columns:\n",
    "            common_col = i\n",
    "    if (common_col == None):\n",
    "        raise ValueError(\"No common Column found\")\n",
    "    all_columns = list(set(rel1_columns + rel2_columns))   \n",
    "    tuple_ = collections.namedtuple(\"Result\", all_columns)\n",
    "    iterations = math.ceil((len(relation1) * len(relation2)) / 10000)\n",
    "    result_list = [[] for i in range(iterations)]\n",
    "    iter1 = iter(relation1)\n",
    "    for i in range(len(relation1)):\n",
    "        record1 = next(iter1)\n",
    "        iter2 = iter(relation2)\n",
    "        for j in range(len(relation2)):\n",
    "            record2 = next(iter2)\n",
    "            if record1._asdict()[common_col] == record2._asdict()[common_col]:\n",
    "                resultdict = record1._asdict()\n",
    "                for k in rel2_columns:\n",
    "                    if k != common_col:\n",
    "                        resultdict[k] = record2._asdict()[k]\n",
    "                result_list[math.floor(i / 10000)].append(tuple_(**resultdict))\n",
    "    result = [k for m in result_list for k in m]\n",
    "    print(\"Cardinality of natural join: \",len(result))\n",
    "    return set(result)      "
   ]
  },
  {
   "cell_type": "code",
   "execution_count": 25,
   "metadata": {
    "ExecuteTime": {
     "end_time": "2019-11-06T00:24:33.295368Z",
     "start_time": "2019-11-06T00:24:33.289513Z"
    }
   },
   "outputs": [],
   "source": [
    "#natural_join(Album, select(Artist, lambda t: t.Name == 'Red Hot Chili Peppers'))"
   ]
  },
  {
   "cell_type": "code",
   "execution_count": 26,
   "metadata": {
    "ExecuteTime": {
     "end_time": "2019-11-06T00:24:33.304189Z",
     "start_time": "2019-11-06T00:24:33.298296Z"
    }
   },
   "outputs": [],
   "source": [
    "#QUERIES*************************"
   ]
  },
  {
   "cell_type": "code",
   "execution_count": 27,
   "metadata": {
    "ExecuteTime": {
     "end_time": "2019-11-06T00:24:33.647248Z",
     "start_time": "2019-11-06T00:24:33.307089Z"
    }
   },
   "outputs": [
    {
     "name": "stdout",
     "output_type": "stream",
     "text": [
      "Cardinality of rename:  275\n",
      "Cardinality of cross:  95425\n",
      "Cardinality of select:  347\n",
      "Cardinality of select:  3\n",
      "Cardinality of project:  3\n",
      "{Result(Title='Blood Sugar Sex Magik'),\n",
      " Result(Title='By The Way'),\n",
      " Result(Title='Californication')}\n"
     ]
    }
   ],
   "source": [
    "pprint.pprint(\n",
    "    project(\n",
    "        select(\n",
    "            select(\n",
    "                cross(\n",
    "                    Album,\n",
    "                    rename(Artist, ['Id', 'Name'])\n",
    "                ),\n",
    "                lambda t: t.ArtistId == t.Id\n",
    "            ),\n",
    "            lambda t: t.Name == 'Red Hot Chili Peppers'\n",
    "        ),\n",
    "        ['Title']\n",
    "    )\n",
    ")"
   ]
  },
  {
   "cell_type": "code",
   "execution_count": 28,
   "metadata": {
    "ExecuteTime": {
     "end_time": "2019-11-06T00:24:33.673600Z",
     "start_time": "2019-11-06T00:24:33.649237Z"
    }
   },
   "outputs": [
    {
     "name": "stdout",
     "output_type": "stream",
     "text": [
      "Cardinality of rename:  275\n",
      "Cardinality of theta join:  347\n",
      "Cardinality of select:  3\n",
      "Cardinality of project:  3\n",
      "{Result(Title='Blood Sugar Sex Magik'),\n",
      " Result(Title='By The Way'),\n",
      " Result(Title='Californication')}\n"
     ]
    }
   ],
   "source": [
    "pprint.pprint(\n",
    "    project(\n",
    "        select(\n",
    "            theta_join(\n",
    "                Album,\n",
    "                rename(Artist, ['Id', 'Name']),\n",
    "                lambda t1, t2: t1.ArtistId == t2.Id\n",
    "            ),\n",
    "            lambda t: t.Name == 'Red Hot Chili Peppers'\n",
    "        ),\n",
    "        ['Title']\n",
    "    )\n",
    ")"
   ]
  },
  {
   "cell_type": "code",
   "execution_count": 29,
   "metadata": {
    "ExecuteTime": {
     "end_time": "2019-11-06T00:24:33.684353Z",
     "start_time": "2019-11-06T00:24:33.675551Z"
    }
   },
   "outputs": [
    {
     "name": "stdout",
     "output_type": "stream",
     "text": [
      "Cardinality of select:  1\n",
      "Cardinality of rename:  1\n",
      "Cardinality of theta join:  3\n",
      "Cardinality of project:  3\n",
      "{Result(Title='Blood Sugar Sex Magik'),\n",
      " Result(Title='By The Way'),\n",
      " Result(Title='Californication')}\n"
     ]
    }
   ],
   "source": [
    "pprint.pprint(\n",
    "    project(\n",
    "        theta_join(\n",
    "            Album,\n",
    "            rename(\n",
    "                select(Artist, lambda t: t.Name == 'Red Hot Chili Peppers'),\n",
    "                ['Id', 'Name']\n",
    "            ),\n",
    "            lambda t1, t2: t1.ArtistId == t2.Id\n",
    "        ),\n",
    "        ['Title']\n",
    "    )\n",
    ")"
   ]
  },
  {
   "cell_type": "code",
   "execution_count": 30,
   "metadata": {
    "ExecuteTime": {
     "end_time": "2019-11-06T00:24:33.699004Z",
     "start_time": "2019-11-06T00:24:33.686286Z"
    },
    "scrolled": true
   },
   "outputs": [
    {
     "name": "stdout",
     "output_type": "stream",
     "text": [
      "Cardinality of select:  1\n",
      "Cardinality of natural join:  3\n",
      "Cardinality of project:  3\n",
      "{Result(Title='Blood Sugar Sex Magik'),\n",
      " Result(Title='By The Way'),\n",
      " Result(Title='Californication')}\n"
     ]
    }
   ],
   "source": [
    "pprint.pprint(\n",
    "    project(\n",
    "        natural_join(\n",
    "            Album,\n",
    "            select(Artist, lambda t: t.Name == 'Red Hot Chili Peppers')\n",
    "        ),\n",
    "        ['Title']\n",
    "    )\n",
    ")"
   ]
  },
  {
   "cell_type": "code",
   "execution_count": 31,
   "metadata": {
    "ExecuteTime": {
     "end_time": "2019-11-06T00:24:33.903901Z",
     "start_time": "2019-11-06T00:24:33.700927Z"
    }
   },
   "outputs": [
    {
     "name": "stdout",
     "output_type": "stream",
     "text": [
      "Cardinality of natural join:  347\n",
      "Cardinality of select:  3\n",
      "Cardinality of project:  3\n",
      "{Result(Title='Blood Sugar Sex Magik'),\n",
      " Result(Title='By The Way'),\n",
      " Result(Title='Californication')}\n"
     ]
    }
   ],
   "source": [
    "#OLD QUERY\n",
    "pprint.pprint(\n",
    "    project(\n",
    "        select(\n",
    "            natural_join(\n",
    "                Album, Artist\n",
    "            ),\n",
    "            lambda t: t.Name == 'Red Hot Chili Peppers'\n",
    "        ),\n",
    "        ['Title']\n",
    "    )\n",
    ")"
   ]
  },
  {
   "cell_type": "code",
   "execution_count": 32,
   "metadata": {
    "ExecuteTime": {
     "end_time": "2019-11-06T00:24:33.915573Z",
     "start_time": "2019-11-06T00:24:33.906789Z"
    }
   },
   "outputs": [
    {
     "name": "stdout",
     "output_type": "stream",
     "text": [
      "Cardinality of select:  1\n",
      "Cardinality of natural join:  3\n",
      "Cardinality of project:  3\n",
      "{Result(Title='Blood Sugar Sex Magik'),\n",
      " Result(Title='By The Way'),\n",
      " Result(Title='Californication')}\n"
     ]
    }
   ],
   "source": [
    "#NEW QUERY\n",
    "pprint.pprint(\n",
    "    project(\n",
    "        natural_join(\n",
    "            Album,\n",
    "            select(Artist, lambda t: t.Name == 'Red Hot Chili Peppers')\n",
    "        ),\n",
    "        ['Title']\n",
    "    )\n",
    ")"
   ]
  },
  {
   "cell_type": "code",
   "execution_count": 33,
   "metadata": {
    "ExecuteTime": {
     "end_time": "2019-11-06T00:24:33.923423Z",
     "start_time": "2019-11-06T00:24:33.918503Z"
    }
   },
   "outputs": [],
   "source": [
    "#*********************************"
   ]
  },
  {
   "cell_type": "code",
   "execution_count": null,
   "metadata": {},
   "outputs": [],
   "source": []
  }
 ],
 "metadata": {
  "kernelspec": {
   "display_name": "Python 3",
   "language": "python",
   "name": "python3"
  },
  "language_info": {
   "codemirror_mode": {
    "name": "ipython",
    "version": 3
   },
   "file_extension": ".py",
   "mimetype": "text/x-python",
   "name": "python",
   "nbconvert_exporter": "python",
   "pygments_lexer": "ipython3",
   "version": "3.7.3"
  },
  "varInspector": {
   "cols": {
    "lenName": 16,
    "lenType": 16,
    "lenVar": 40
   },
   "kernels_config": {
    "python": {
     "delete_cmd_postfix": "",
     "delete_cmd_prefix": "del ",
     "library": "var_list.py",
     "varRefreshCmd": "print(var_dic_list())"
    },
    "r": {
     "delete_cmd_postfix": ") ",
     "delete_cmd_prefix": "rm(",
     "library": "var_list.r",
     "varRefreshCmd": "cat(var_dic_list()) "
    }
   },
   "types_to_exclude": [
    "module",
    "function",
    "builtin_function_or_method",
    "instance",
    "_Feature"
   ],
   "window_display": false
  }
 },
 "nbformat": 4,
 "nbformat_minor": 2
}
